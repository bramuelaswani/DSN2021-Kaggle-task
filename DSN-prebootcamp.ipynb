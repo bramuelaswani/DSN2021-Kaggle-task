{
 "cells": [
  {
   "cell_type": "code",
   "execution_count": 1,
   "id": "b1c15971",
   "metadata": {},
   "outputs": [],
   "source": [
    "import pandas as pd\n",
    "import matplotlib.pyplot as plt\n",
    "import numpy as np\n",
    "import seaborn as sns\n",
    "from sklearn.metrics import confusion_matrix, classification_report\n",
    "from sklearn.preprocessing import StandardScaler, LabelEncoder\n",
    "from sklearn.model_selection import train_test_split\n"
   ]
  },
  {
   "cell_type": "code",
   "execution_count": 2,
   "id": "df3923e9",
   "metadata": {},
   "outputs": [
    {
     "data": {
      "text/html": [
       "<div>\n",
       "<style scoped>\n",
       "    .dataframe tbody tr th:only-of-type {\n",
       "        vertical-align: middle;\n",
       "    }\n",
       "\n",
       "    .dataframe tbody tr th {\n",
       "        vertical-align: top;\n",
       "    }\n",
       "\n",
       "    .dataframe thead th {\n",
       "        text-align: right;\n",
       "    }\n",
       "</style>\n",
       "<table border=\"1\" class=\"dataframe\">\n",
       "  <thead>\n",
       "    <tr style=\"text-align: right;\">\n",
       "      <th></th>\n",
       "      <th>Customer_ID</th>\n",
       "      <th>Sex</th>\n",
       "      <th>Earnings</th>\n",
       "      <th>Region_Code</th>\n",
       "      <th>Marital Status</th>\n",
       "      <th>State_of_Origin</th>\n",
       "      <th>Customer_Worth</th>\n",
       "      <th>Customer_Reply</th>\n",
       "      <th>Plan</th>\n",
       "      <th>Certification</th>\n",
       "      <th>...</th>\n",
       "      <th>Vehicle Class</th>\n",
       "      <th>Vehicle Size</th>\n",
       "      <th>Months Since Last Claim</th>\n",
       "      <th>Months Since Policy Inception</th>\n",
       "      <th>Counts_of_Open_Complaints</th>\n",
       "      <th>No_Of_POlicy</th>\n",
       "      <th>kind_of_policy</th>\n",
       "      <th>Active_Policy</th>\n",
       "      <th>Sales Channel</th>\n",
       "      <th>Best_Offer</th>\n",
       "    </tr>\n",
       "  </thead>\n",
       "  <tbody>\n",
       "    <tr>\n",
       "      <th>0</th>\n",
       "      <td>Customer_434</td>\n",
       "      <td>Female</td>\n",
       "      <td>97134</td>\n",
       "      <td>Suburban</td>\n",
       "      <td>Single</td>\n",
       "      <td>Kano</td>\n",
       "      <td>5017.009472</td>\n",
       "      <td>Interested</td>\n",
       "      <td>Silver</td>\n",
       "      <td>First_Degree</td>\n",
       "      <td>...</td>\n",
       "      <td>SUV</td>\n",
       "      <td>Medsize</td>\n",
       "      <td>12</td>\n",
       "      <td>15</td>\n",
       "      <td>0</td>\n",
       "      <td>1</td>\n",
       "      <td>Corporate</td>\n",
       "      <td>C_L2</td>\n",
       "      <td>Agent</td>\n",
       "      <td>1</td>\n",
       "    </tr>\n",
       "    <tr>\n",
       "      <th>1</th>\n",
       "      <td>Customer_4641</td>\n",
       "      <td>Female</td>\n",
       "      <td>53754</td>\n",
       "      <td>Suburban</td>\n",
       "      <td>Married</td>\n",
       "      <td>Abuja</td>\n",
       "      <td>5151.301306</td>\n",
       "      <td>Not_interested</td>\n",
       "      <td>Silver</td>\n",
       "      <td>First_Degree</td>\n",
       "      <td>...</td>\n",
       "      <td>SUV</td>\n",
       "      <td>Small</td>\n",
       "      <td>5</td>\n",
       "      <td>2</td>\n",
       "      <td>0</td>\n",
       "      <td>1</td>\n",
       "      <td>Personal</td>\n",
       "      <td>P_L2</td>\n",
       "      <td>Agent</td>\n",
       "      <td>3</td>\n",
       "    </tr>\n",
       "    <tr>\n",
       "      <th>2</th>\n",
       "      <td>Customer_4952</td>\n",
       "      <td>Female</td>\n",
       "      <td>25804</td>\n",
       "      <td>Suburban</td>\n",
       "      <td>Divorced</td>\n",
       "      <td>Lagos</td>\n",
       "      <td>4906.894731</td>\n",
       "      <td>Interested</td>\n",
       "      <td>Silver</td>\n",
       "      <td>HND</td>\n",
       "      <td>...</td>\n",
       "      <td>Sports Car</td>\n",
       "      <td>Medsize</td>\n",
       "      <td>3</td>\n",
       "      <td>51</td>\n",
       "      <td>0</td>\n",
       "      <td>1</td>\n",
       "      <td>Personal</td>\n",
       "      <td>P_L3</td>\n",
       "      <td>Agent</td>\n",
       "      <td>0</td>\n",
       "    </tr>\n",
       "    <tr>\n",
       "      <th>3</th>\n",
       "      <td>Customer_1489</td>\n",
       "      <td>Female</td>\n",
       "      <td>0</td>\n",
       "      <td>Suburban</td>\n",
       "      <td>Single</td>\n",
       "      <td>Imo</td>\n",
       "      <td>8512.525936</td>\n",
       "      <td>Not_interested</td>\n",
       "      <td>Silver</td>\n",
       "      <td>HND</td>\n",
       "      <td>...</td>\n",
       "      <td>Sports Car</td>\n",
       "      <td>Medsize</td>\n",
       "      <td>5</td>\n",
       "      <td>94</td>\n",
       "      <td>0</td>\n",
       "      <td>8</td>\n",
       "      <td>Personal</td>\n",
       "      <td>P_L2</td>\n",
       "      <td>Branch</td>\n",
       "      <td>1</td>\n",
       "    </tr>\n",
       "    <tr>\n",
       "      <th>4</th>\n",
       "      <td>Customer_812</td>\n",
       "      <td>Male</td>\n",
       "      <td>140494</td>\n",
       "      <td>Rural</td>\n",
       "      <td>Single</td>\n",
       "      <td>Imo</td>\n",
       "      <td>3280.531880</td>\n",
       "      <td>Not_interested</td>\n",
       "      <td>Silver</td>\n",
       "      <td>PHD</td>\n",
       "      <td>...</td>\n",
       "      <td>Four-Door Car</td>\n",
       "      <td>Medsize</td>\n",
       "      <td>13</td>\n",
       "      <td>19</td>\n",
       "      <td>2</td>\n",
       "      <td>1</td>\n",
       "      <td>Personal</td>\n",
       "      <td>P_L2</td>\n",
       "      <td>Call Center</td>\n",
       "      <td>3</td>\n",
       "    </tr>\n",
       "  </tbody>\n",
       "</table>\n",
       "<p>5 rows × 24 columns</p>\n",
       "</div>"
      ],
      "text/plain": [
       "     Customer_ID     Sex  Earnings Region_Code Marital Status State_of_Origin  \\\n",
       "0   Customer_434  Female     97134    Suburban         Single            Kano   \n",
       "1  Customer_4641  Female     53754    Suburban        Married           Abuja   \n",
       "2  Customer_4952  Female     25804    Suburban       Divorced           Lagos   \n",
       "3  Customer_1489  Female         0    Suburban         Single             Imo   \n",
       "4   Customer_812    Male    140494       Rural         Single             Imo   \n",
       "\n",
       "   Customer_Worth  Customer_Reply    Plan Certification  ...  Vehicle Class  \\\n",
       "0     5017.009472      Interested  Silver  First_Degree  ...            SUV   \n",
       "1     5151.301306  Not_interested  Silver  First_Degree  ...            SUV   \n",
       "2     4906.894731      Interested  Silver           HND  ...     Sports Car   \n",
       "3     8512.525936  Not_interested  Silver           HND  ...     Sports Car   \n",
       "4     3280.531880  Not_interested  Silver           PHD  ...  Four-Door Car   \n",
       "\n",
       "  Vehicle Size  Months Since Last Claim  Months Since Policy Inception  \\\n",
       "0      Medsize                       12                             15   \n",
       "1        Small                        5                              2   \n",
       "2      Medsize                        3                             51   \n",
       "3      Medsize                        5                             94   \n",
       "4      Medsize                       13                             19   \n",
       "\n",
       "  Counts_of_Open_Complaints No_Of_POlicy  kind_of_policy  Active_Policy  \\\n",
       "0                         0            1       Corporate           C_L2   \n",
       "1                         0            1        Personal           P_L2   \n",
       "2                         0            1        Personal           P_L3   \n",
       "3                         0            8        Personal           P_L2   \n",
       "4                         2            1        Personal           P_L2   \n",
       "\n",
       "   Sales Channel  Best_Offer  \n",
       "0          Agent           1  \n",
       "1          Agent           3  \n",
       "2          Agent           0  \n",
       "3         Branch           1  \n",
       "4    Call Center           3  \n",
       "\n",
       "[5 rows x 24 columns]"
      ]
     },
     "execution_count": 2,
     "metadata": {},
     "output_type": "execute_result"
    }
   ],
   "source": [
    "df=pd.read_csv('train.csv')\n",
    "df.head()"
   ]
  },
  {
   "cell_type": "code",
   "execution_count": 3,
   "id": "2b79691b",
   "metadata": {},
   "outputs": [
    {
     "data": {
      "text/plain": [
       "Customer_ID                      0\n",
       "Sex                              0\n",
       "Earnings                         0\n",
       "Region_Code                      0\n",
       "Marital Status                   0\n",
       "State_of_Origin                  0\n",
       "Customer_Worth                   0\n",
       "Customer_Reply                   0\n",
       "Plan                             0\n",
       "Certification                    0\n",
       "Effective To Date                0\n",
       "Status_of_Employment             0\n",
       "Premium_Auto_per_Month           0\n",
       "Total Claim Amount               0\n",
       "Vehicle Class                    0\n",
       "Vehicle Size                     0\n",
       "Months Since Last Claim          0\n",
       "Months Since Policy Inception    0\n",
       "Counts_of_Open_Complaints        0\n",
       "No_Of_POlicy                     0\n",
       "kind_of_policy                   0\n",
       "Active_Policy                    0\n",
       "Sales Channel                    0\n",
       "Best_Offer                       0\n",
       "dtype: int64"
      ]
     },
     "execution_count": 3,
     "metadata": {},
     "output_type": "execute_result"
    }
   ],
   "source": [
    "df.isnull().sum()"
   ]
  },
  {
   "cell_type": "code",
   "execution_count": 4,
   "id": "a9067fe3",
   "metadata": {},
   "outputs": [
    {
     "name": "stderr",
     "output_type": "stream",
     "text": [
      "C:\\Users\\User\\anaconda3\\lib\\site-packages\\seaborn\\_decorators.py:36: FutureWarning: Pass the following variable as a keyword arg: x. From version 0.12, the only valid positional argument will be `data`, and passing other arguments without an explicit keyword will result in an error or misinterpretation.\n",
      "  warnings.warn(\n"
     ]
    },
    {
     "data": {
      "text/plain": [
       "<AxesSubplot:xlabel='Sex', ylabel='count'>"
      ]
     },
     "execution_count": 4,
     "metadata": {},
     "output_type": "execute_result"
    },
    {
     "data": {
      "image/png": "[encoded data removed]",
      "text/plain": [
       "<Figure size 432x288 with 1 Axes>"
      ]
     },
     "metadata": {
      "needs_background": "light"
     },
     "output_type": "display_data"
    }
   ],
   "source": [
    "sns.countplot('Sex',data=df)"
   ]
  },
  {
   "cell_type": "code",
   "execution_count": 5,
   "id": "b365d648",
   "metadata": {},
   "outputs": [
    {
     "name": "stderr",
     "output_type": "stream",
     "text": [
      "C:\\Users\\User\\anaconda3\\lib\\site-packages\\seaborn\\_decorators.py:36: FutureWarning: Pass the following variable as a keyword arg: x. From version 0.12, the only valid positional argument will be `data`, and passing other arguments without an explicit keyword will result in an error or misinterpretation.\n",
      "  warnings.warn(\n"
     ]
    },
    {
     "data": {
      "text/plain": [
       "<AxesSubplot:xlabel='kind_of_policy', ylabel='count'>"
      ]
     },
     "execution_count": 5,
     "metadata": {},
     "output_type": "execute_result"
    },
    {
     "data": {
      "image/png": "[encoded data removed]",
      "text/plain": [
       "<Figure size 432x288 with 1 Axes>"
      ]
     },
     "metadata": {
      "needs_background": "light"
     },
     "output_type": "display_data"
    }
   ],
   "source": [
    "sns.countplot('kind_of_policy',data=df)"
   ]
  },
  {
   "cell_type": "code",
   "execution_count": 6,
   "id": "2f0c4566",
   "metadata": {},
   "outputs": [
    {
     "name": "stderr",
     "output_type": "stream",
     "text": [
      "C:\\Users\\User\\anaconda3\\lib\\site-packages\\seaborn\\_decorators.py:36: FutureWarning: Pass the following variable as a keyword arg: x. From version 0.12, the only valid positional argument will be `data`, and passing other arguments without an explicit keyword will result in an error or misinterpretation.\n",
      "  warnings.warn(\n"
     ]
    },
    {
     "data": {
      "text/plain": [
       "<AxesSubplot:xlabel='Customer_Reply', ylabel='count'>"
      ]
     },
     "execution_count": 6,
     "metadata": {},
     "output_type": "execute_result"
    },
    {
     "data": {
      "image/png": "[encoded data removed]",
      "text/plain": [
       "<Figure size 432x288 with 1 Axes>"
      ]
     },
     "metadata": {
      "needs_background": "light"
     },
     "output_type": "display_data"
    }
   ],
   "source": [
    "sns.countplot('Customer_Reply',data=df)"
   ]
  },
  {
   "cell_type": "code",
   "execution_count": 7,
   "id": "9b5e0332",
   "metadata": {},
   "outputs": [
    {
     "name": "stderr",
     "output_type": "stream",
     "text": [
      "C:\\Users\\User\\anaconda3\\lib\\site-packages\\seaborn\\_decorators.py:36: FutureWarning: Pass the following variable as a keyword arg: x. From version 0.12, the only valid positional argument will be `data`, and passing other arguments without an explicit keyword will result in an error or misinterpretation.\n",
      "  warnings.warn(\n"
     ]
    },
    {
     "data": {
      "text/plain": [
       "<AxesSubplot:xlabel='Sales Channel', ylabel='count'>"
      ]
     },
     "execution_count": 7,
     "metadata": {},
     "output_type": "execute_result"
    },
    {
     "data": {
      "image/png": "[encoded data removed]",
      "text/plain": [
       "<Figure size 432x288 with 1 Axes>"
      ]
     },
     "metadata": {
      "needs_background": "light"
     },
     "output_type": "display_data"
    }
   ],
   "source": [
    "sns.countplot('Sales Channel',hue='Best_Offer',data=df)"
   ]
  },
  {
   "cell_type": "code",
   "execution_count": null,
   "id": "ab2cd0d1",
   "metadata": {},
   "outputs": [],
   "source": []
  },
  {
   "cell_type": "code",
   "execution_count": 8,
   "id": "ce4c84ef",
   "metadata": {
    "scrolled": true
   },
   "outputs": [
    {
     "data": {
      "text/html": [
       "<div>\n",
       "<style scoped>\n",
       "    .dataframe tbody tr th:only-of-type {\n",
       "        vertical-align: middle;\n",
       "    }\n",
       "\n",
       "    .dataframe tbody tr th {\n",
       "        vertical-align: top;\n",
       "    }\n",
       "\n",
       "    .dataframe thead th {\n",
       "        text-align: right;\n",
       "    }\n",
       "</style>\n",
       "<table border=\"1\" class=\"dataframe\">\n",
       "  <thead>\n",
       "    <tr style=\"text-align: right;\">\n",
       "      <th></th>\n",
       "      <th>Customer_ID</th>\n",
       "      <th>Sex</th>\n",
       "      <th>Earnings</th>\n",
       "      <th>Region_Code</th>\n",
       "      <th>Marital Status</th>\n",
       "      <th>State_of_Origin</th>\n",
       "      <th>Customer_Worth</th>\n",
       "      <th>Customer_Reply</th>\n",
       "      <th>Plan</th>\n",
       "      <th>Certification</th>\n",
       "      <th>...</th>\n",
       "      <th>Total Claim Amount</th>\n",
       "      <th>Vehicle Class</th>\n",
       "      <th>Vehicle Size</th>\n",
       "      <th>Months Since Last Claim</th>\n",
       "      <th>Months Since Policy Inception</th>\n",
       "      <th>Counts_of_Open_Complaints</th>\n",
       "      <th>No_Of_POlicy</th>\n",
       "      <th>kind_of_policy</th>\n",
       "      <th>Active_Policy</th>\n",
       "      <th>Sales Channel</th>\n",
       "    </tr>\n",
       "  </thead>\n",
       "  <tbody>\n",
       "    <tr>\n",
       "      <th>0</th>\n",
       "      <td>Customer_434</td>\n",
       "      <td>Female</td>\n",
       "      <td>97134</td>\n",
       "      <td>Suburban</td>\n",
       "      <td>Single</td>\n",
       "      <td>Kano</td>\n",
       "      <td>5017.009472</td>\n",
       "      <td>Interested</td>\n",
       "      <td>Silver</td>\n",
       "      <td>First_Degree</td>\n",
       "      <td>...</td>\n",
       "      <td>624.000000</td>\n",
       "      <td>SUV</td>\n",
       "      <td>Medsize</td>\n",
       "      <td>12</td>\n",
       "      <td>15</td>\n",
       "      <td>0</td>\n",
       "      <td>1</td>\n",
       "      <td>Corporate</td>\n",
       "      <td>C_L2</td>\n",
       "      <td>Agent</td>\n",
       "    </tr>\n",
       "    <tr>\n",
       "      <th>1</th>\n",
       "      <td>Customer_4641</td>\n",
       "      <td>Female</td>\n",
       "      <td>53754</td>\n",
       "      <td>Suburban</td>\n",
       "      <td>Married</td>\n",
       "      <td>Abuja</td>\n",
       "      <td>5151.301306</td>\n",
       "      <td>Not_interested</td>\n",
       "      <td>Silver</td>\n",
       "      <td>First_Degree</td>\n",
       "      <td>...</td>\n",
       "      <td>628.800000</td>\n",
       "      <td>SUV</td>\n",
       "      <td>Small</td>\n",
       "      <td>5</td>\n",
       "      <td>2</td>\n",
       "      <td>0</td>\n",
       "      <td>1</td>\n",
       "      <td>Personal</td>\n",
       "      <td>P_L2</td>\n",
       "      <td>Agent</td>\n",
       "    </tr>\n",
       "    <tr>\n",
       "      <th>2</th>\n",
       "      <td>Customer_4952</td>\n",
       "      <td>Female</td>\n",
       "      <td>25804</td>\n",
       "      <td>Suburban</td>\n",
       "      <td>Divorced</td>\n",
       "      <td>Lagos</td>\n",
       "      <td>4906.894731</td>\n",
       "      <td>Interested</td>\n",
       "      <td>Silver</td>\n",
       "      <td>HND</td>\n",
       "      <td>...</td>\n",
       "      <td>667.200000</td>\n",
       "      <td>Sports Car</td>\n",
       "      <td>Medsize</td>\n",
       "      <td>3</td>\n",
       "      <td>51</td>\n",
       "      <td>0</td>\n",
       "      <td>1</td>\n",
       "      <td>Personal</td>\n",
       "      <td>P_L3</td>\n",
       "      <td>Agent</td>\n",
       "    </tr>\n",
       "    <tr>\n",
       "      <th>3</th>\n",
       "      <td>Customer_1489</td>\n",
       "      <td>Female</td>\n",
       "      <td>0</td>\n",
       "      <td>Suburban</td>\n",
       "      <td>Single</td>\n",
       "      <td>Imo</td>\n",
       "      <td>8512.525936</td>\n",
       "      <td>Not_interested</td>\n",
       "      <td>Silver</td>\n",
       "      <td>HND</td>\n",
       "      <td>...</td>\n",
       "      <td>871.200000</td>\n",
       "      <td>Sports Car</td>\n",
       "      <td>Medsize</td>\n",
       "      <td>5</td>\n",
       "      <td>94</td>\n",
       "      <td>0</td>\n",
       "      <td>8</td>\n",
       "      <td>Personal</td>\n",
       "      <td>P_L2</td>\n",
       "      <td>Branch</td>\n",
       "    </tr>\n",
       "    <tr>\n",
       "      <th>4</th>\n",
       "      <td>Customer_812</td>\n",
       "      <td>Male</td>\n",
       "      <td>140494</td>\n",
       "      <td>Rural</td>\n",
       "      <td>Single</td>\n",
       "      <td>Imo</td>\n",
       "      <td>3280.531880</td>\n",
       "      <td>Not_interested</td>\n",
       "      <td>Silver</td>\n",
       "      <td>PHD</td>\n",
       "      <td>...</td>\n",
       "      <td>141.799422</td>\n",
       "      <td>Four-Door Car</td>\n",
       "      <td>Medsize</td>\n",
       "      <td>13</td>\n",
       "      <td>19</td>\n",
       "      <td>2</td>\n",
       "      <td>1</td>\n",
       "      <td>Personal</td>\n",
       "      <td>P_L2</td>\n",
       "      <td>Call Center</td>\n",
       "    </tr>\n",
       "  </tbody>\n",
       "</table>\n",
       "<p>5 rows × 23 columns</p>\n",
       "</div>"
      ],
      "text/plain": [
       "     Customer_ID     Sex  Earnings Region_Code Marital Status State_of_Origin  \\\n",
       "0   Customer_434  Female     97134    Suburban         Single            Kano   \n",
       "1  Customer_4641  Female     53754    Suburban        Married           Abuja   \n",
       "2  Customer_4952  Female     25804    Suburban       Divorced           Lagos   \n",
       "3  Customer_1489  Female         0    Suburban         Single             Imo   \n",
       "4   Customer_812    Male    140494       Rural         Single             Imo   \n",
       "\n",
       "   Customer_Worth  Customer_Reply    Plan Certification  ...  \\\n",
       "0     5017.009472      Interested  Silver  First_Degree  ...   \n",
       "1     5151.301306  Not_interested  Silver  First_Degree  ...   \n",
       "2     4906.894731      Interested  Silver           HND  ...   \n",
       "3     8512.525936  Not_interested  Silver           HND  ...   \n",
       "4     3280.531880  Not_interested  Silver           PHD  ...   \n",
       "\n",
       "  Total Claim Amount  Vehicle Class  Vehicle Size  Months Since Last Claim  \\\n",
       "0         624.000000            SUV       Medsize                       12   \n",
       "1         628.800000            SUV         Small                        5   \n",
       "2         667.200000     Sports Car       Medsize                        3   \n",
       "3         871.200000     Sports Car       Medsize                        5   \n",
       "4         141.799422  Four-Door Car       Medsize                       13   \n",
       "\n",
       "  Months Since Policy Inception Counts_of_Open_Complaints  No_Of_POlicy  \\\n",
       "0                            15                         0             1   \n",
       "1                             2                         0             1   \n",
       "2                            51                         0             1   \n",
       "3                            94                         0             8   \n",
       "4                            19                         2             1   \n",
       "\n",
       "   kind_of_policy  Active_Policy  Sales Channel  \n",
       "0       Corporate           C_L2          Agent  \n",
       "1        Personal           P_L2          Agent  \n",
       "2        Personal           P_L3          Agent  \n",
       "3        Personal           P_L2         Branch  \n",
       "4        Personal           P_L2    Call Center  \n",
       "\n",
       "[5 rows x 23 columns]"
      ]
     },
     "execution_count": 8,
     "metadata": {},
     "output_type": "execute_result"
    }
   ],
   "source": [
    "#Now seperate the dataset as response variable and feature variables\n",
    "x = df.drop('Best_Offer', axis = 1)\n",
    "y = df['Best_Offer']\n",
    "x.head()"
   ]
  },
  {
   "cell_type": "code",
   "execution_count": 34,
   "id": "f056aac8",
   "metadata": {},
   "outputs": [
    {
     "data": {
      "text/html": [
       "<div>\n",
       "<style scoped>\n",
       "    .dataframe tbody tr th:only-of-type {\n",
       "        vertical-align: middle;\n",
       "    }\n",
       "\n",
       "    .dataframe tbody tr th {\n",
       "        vertical-align: top;\n",
       "    }\n",
       "\n",
       "    .dataframe thead th {\n",
       "        text-align: right;\n",
       "    }\n",
       "</style>\n",
       "<table border=\"1\" class=\"dataframe\">\n",
       "  <thead>\n",
       "    <tr style=\"text-align: right;\">\n",
       "      <th></th>\n",
       "      <th>Customer_ID</th>\n",
       "      <th>Sex</th>\n",
       "      <th>Earnings</th>\n",
       "      <th>Region_Code</th>\n",
       "      <th>Marital Status</th>\n",
       "      <th>State_of_Origin</th>\n",
       "      <th>Customer_Worth</th>\n",
       "      <th>Customer_Reply</th>\n",
       "      <th>Plan</th>\n",
       "      <th>Certification</th>\n",
       "      <th>...</th>\n",
       "      <th>Total Claim Amount</th>\n",
       "      <th>Vehicle Class</th>\n",
       "      <th>Vehicle Size</th>\n",
       "      <th>Months Since Last Claim</th>\n",
       "      <th>Months Since Policy Inception</th>\n",
       "      <th>Counts_of_Open_Complaints</th>\n",
       "      <th>No_Of_POlicy</th>\n",
       "      <th>kind_of_policy</th>\n",
       "      <th>Active_Policy</th>\n",
       "      <th>Sales Channel</th>\n",
       "    </tr>\n",
       "  </thead>\n",
       "  <tbody>\n",
       "    <tr>\n",
       "      <th>0</th>\n",
       "      <td>2584</td>\n",
       "      <td>0</td>\n",
       "      <td>2093</td>\n",
       "      <td>1</td>\n",
       "      <td>2</td>\n",
       "      <td>3</td>\n",
       "      <td>2128</td>\n",
       "      <td>0</td>\n",
       "      <td>2</td>\n",
       "      <td>0</td>\n",
       "      <td>...</td>\n",
       "      <td>2893</td>\n",
       "      <td>3</td>\n",
       "      <td>1</td>\n",
       "      <td>12</td>\n",
       "      <td>15</td>\n",
       "      <td>0</td>\n",
       "      <td>0</td>\n",
       "      <td>0</td>\n",
       "      <td>1</td>\n",
       "      <td>0</td>\n",
       "    </tr>\n",
       "    <tr>\n",
       "      <th>1</th>\n",
       "      <td>2813</td>\n",
       "      <td>0</td>\n",
       "      <td>877</td>\n",
       "      <td>1</td>\n",
       "      <td>1</td>\n",
       "      <td>0</td>\n",
       "      <td>2245</td>\n",
       "      <td>1</td>\n",
       "      <td>2</td>\n",
       "      <td>0</td>\n",
       "      <td>...</td>\n",
       "      <td>2903</td>\n",
       "      <td>3</td>\n",
       "      <td>2</td>\n",
       "      <td>5</td>\n",
       "      <td>2</td>\n",
       "      <td>0</td>\n",
       "      <td>0</td>\n",
       "      <td>1</td>\n",
       "      <td>4</td>\n",
       "      <td>0</td>\n",
       "    </tr>\n",
       "    <tr>\n",
       "      <th>2</th>\n",
       "      <td>3050</td>\n",
       "      <td>0</td>\n",
       "      <td>67</td>\n",
       "      <td>1</td>\n",
       "      <td>0</td>\n",
       "      <td>4</td>\n",
       "      <td>2024</td>\n",
       "      <td>0</td>\n",
       "      <td>2</td>\n",
       "      <td>1</td>\n",
       "      <td>...</td>\n",
       "      <td>2993</td>\n",
       "      <td>4</td>\n",
       "      <td>1</td>\n",
       "      <td>3</td>\n",
       "      <td>51</td>\n",
       "      <td>0</td>\n",
       "      <td>0</td>\n",
       "      <td>1</td>\n",
       "      <td>5</td>\n",
       "      <td>0</td>\n",
       "    </tr>\n",
       "    <tr>\n",
       "      <th>3</th>\n",
       "      <td>363</td>\n",
       "      <td>0</td>\n",
       "      <td>0</td>\n",
       "      <td>1</td>\n",
       "      <td>2</td>\n",
       "      <td>2</td>\n",
       "      <td>4078</td>\n",
       "      <td>1</td>\n",
       "      <td>2</td>\n",
       "      <td>1</td>\n",
       "      <td>...</td>\n",
       "      <td>3307</td>\n",
       "      <td>4</td>\n",
       "      <td>1</td>\n",
       "      <td>5</td>\n",
       "      <td>94</td>\n",
       "      <td>0</td>\n",
       "      <td>7</td>\n",
       "      <td>1</td>\n",
       "      <td>4</td>\n",
       "      <td>1</td>\n",
       "    </tr>\n",
       "    <tr>\n",
       "      <th>4</th>\n",
       "      <td>5522</td>\n",
       "      <td>1</td>\n",
       "      <td>3089</td>\n",
       "      <td>0</td>\n",
       "      <td>2</td>\n",
       "      <td>2</td>\n",
       "      <td>1032</td>\n",
       "      <td>1</td>\n",
       "      <td>2</td>\n",
       "      <td>3</td>\n",
       "      <td>...</td>\n",
       "      <td>826</td>\n",
       "      <td>0</td>\n",
       "      <td>1</td>\n",
       "      <td>13</td>\n",
       "      <td>19</td>\n",
       "      <td>1</td>\n",
       "      <td>0</td>\n",
       "      <td>1</td>\n",
       "      <td>4</td>\n",
       "      <td>2</td>\n",
       "    </tr>\n",
       "  </tbody>\n",
       "</table>\n",
       "<p>5 rows × 23 columns</p>\n",
       "</div>"
      ],
      "text/plain": [
       "   Customer_ID  Sex  Earnings  Region_Code  Marital Status  State_of_Origin  \\\n",
       "0         2584    0      2093            1               2                3   \n",
       "1         2813    0       877            1               1                0   \n",
       "2         3050    0        67            1               0                4   \n",
       "3          363    0         0            1               2                2   \n",
       "4         5522    1      3089            0               2                2   \n",
       "\n",
       "   Customer_Worth  Customer_Reply  Plan  Certification  ...  \\\n",
       "0            2128               0     2              0  ...   \n",
       "1            2245               1     2              0  ...   \n",
       "2            2024               0     2              1  ...   \n",
       "3            4078               1     2              1  ...   \n",
       "4            1032               1     2              3  ...   \n",
       "\n",
       "   Total Claim Amount  Vehicle Class  Vehicle Size  Months Since Last Claim  \\\n",
       "0                2893              3             1                       12   \n",
       "1                2903              3             2                        5   \n",
       "2                2993              4             1                        3   \n",
       "3                3307              4             1                        5   \n",
       "4                 826              0             1                       13   \n",
       "\n",
       "   Months Since Policy Inception  Counts_of_Open_Complaints  No_Of_POlicy  \\\n",
       "0                             15                          0             0   \n",
       "1                              2                          0             0   \n",
       "2                             51                          0             0   \n",
       "3                             94                          0             7   \n",
       "4                             19                          1             0   \n",
       "\n",
       "   kind_of_policy  Active_Policy  Sales Channel  \n",
       "0               0              1              0  \n",
       "1               1              4              0  \n",
       "2               1              5              0  \n",
       "3               1              4              1  \n",
       "4               1              4              2  \n",
       "\n",
       "[5 rows x 23 columns]"
      ]
     },
     "execution_count": 34,
     "metadata": {},
     "output_type": "execute_result"
    }
   ],
   "source": [
    "x=x.apply(LabelEncoder().fit_transform)\n",
    "#x=x.drop(columns=['Region_Code','Vehicle Class'])\n",
    "x.head()"
   ]
  },
  {
   "cell_type": "code",
   "execution_count": 35,
   "id": "f3cf5d0c",
   "metadata": {},
   "outputs": [],
   "source": [
    "#Train and Test splitting of data \n",
    "X_train, X_test, y_train, y_test = train_test_split(x, y, test_size = 0.20, random_state =20)\n",
    "\n"
   ]
  },
  {
   "cell_type": "code",
   "execution_count": 36,
   "id": "ee2c5665",
   "metadata": {},
   "outputs": [],
   "source": [
    "sc = StandardScaler()\n",
    "X_train = sc.fit_transform(X_train)\n",
    "X_test = sc.fit_transform(X_test)\n"
   ]
  },
  {
   "cell_type": "markdown",
   "id": "fe663c20",
   "metadata": {},
   "source": [
    "## RANDOM FOREST"
   ]
  },
  {
   "cell_type": "code",
   "execution_count": 37,
   "id": "3ba7c5f0",
   "metadata": {},
   "outputs": [],
   "source": [
    "from sklearn.ensemble import RandomForestClassifier\n",
    "\n",
    "#rfc = RandomForestClassifier(n_estimators=400)\n",
    "rfc=RandomForestClassifier(n_estimators=1000, criterion='gini', max_depth=None,min_samples_split=2, \n",
    "                       min_samples_leaf=1, min_weight_fraction_leaf=0.0, max_features='auto', max_leaf_nodes=None,\n",
    "                       bootstrap=True, oob_score=False, n_jobs=1, random_state=20, verbose=0, \n",
    "                       warm_start=False,class_weight=None)\n",
    "rfc.fit(X_train, y_train)\n",
    "pred_rfc = rfc.predict(X_test)\n"
   ]
  },
  {
   "cell_type": "code",
   "execution_count": 38,
   "id": "83d60daf",
   "metadata": {},
   "outputs": [
    {
     "name": "stdout",
     "output_type": "stream",
     "text": [
      "              precision    recall  f1-score   support\n",
      "\n",
      "           0       0.55      0.87      0.68       523\n",
      "           1       0.56      0.61      0.58       405\n",
      "           2       0.38      0.01      0.03       204\n",
      "           3       0.33      0.01      0.03       147\n",
      "\n",
      "    accuracy                           0.55      1279\n",
      "   macro avg       0.45      0.38      0.33      1279\n",
      "weighted avg       0.50      0.55      0.47      1279\n",
      "\n"
     ]
    }
   ],
   "source": [
    "#viewing how our model performed\n",
    "\n",
    "print(classification_report(y_test, pred_rfc))"
   ]
  },
  {
   "cell_type": "code",
   "execution_count": 39,
   "id": "e8e24c02",
   "metadata": {
    "scrolled": true
   },
   "outputs": [
    {
     "name": "stdout",
     "output_type": "stream",
     "text": [
      "[[453  69   1   0]\n",
      " [149 249   3   4]\n",
      " [140  61   3   0]\n",
      " [ 76  68   1   2]]\n"
     ]
    }
   ],
   "source": [
    "#Confusion matrix for the random forest classification\n",
    "print(confusion_matrix(y_test, pred_rfc))"
   ]
  },
  {
   "cell_type": "code",
   "execution_count": 40,
   "id": "a47c841d",
   "metadata": {},
   "outputs": [
    {
     "data": {
      "text/plain": [
       "0.5527756059421423"
      ]
     },
     "execution_count": 40,
     "metadata": {},
     "output_type": "execute_result"
    }
   ],
   "source": [
    "from sklearn.metrics import accuracy_score\n",
    "cm = accuracy_score(y_test, pred_rfc)\n",
    "\n",
    "cm"
   ]
  },
  {
   "cell_type": "markdown",
   "id": "12411dca",
   "metadata": {},
   "source": [
    "## LINEAR SVM"
   ]
  },
  {
   "cell_type": "code",
   "execution_count": 41,
   "id": "5a8d0653",
   "metadata": {},
   "outputs": [],
   "source": [
    "# from sklearn import svm\n",
    "# clf_svm=svm.SVC(kernel='linear')\n",
    "# clf_svm.fit(X_train,y_train)\n",
    "# pred_svm = rfc.predict(X_test)\n",
    "\n",
    "#x_test[0]"
   ]
  },
  {
   "cell_type": "code",
   "execution_count": 42,
   "id": "a507deb0",
   "metadata": {},
   "outputs": [],
   "source": [
    "#clf_svm.score(X_test,y_test)"
   ]
  },
  {
   "cell_type": "markdown",
   "id": "bcfaea89",
   "metadata": {},
   "source": [
    "## LOGISTIC"
   ]
  },
  {
   "cell_type": "code",
   "execution_count": 43,
   "id": "160693b1",
   "metadata": {},
   "outputs": [],
   "source": [
    "# from sklearn.linear_model import LogisticRegression\n",
    "# clf_log=LogisticRegression()\n",
    "# clf_log.fit(X_train,y_train)\n",
    "# clf_log.predict(X_test)\n",
    "# #pred_rfc = rfc.predict(X_test)\n"
   ]
  },
  {
   "cell_type": "code",
   "execution_count": 44,
   "id": "2eb1ebd9",
   "metadata": {},
   "outputs": [],
   "source": [
    "#print(classification_report(y_test, pred_rfc))"
   ]
  },
  {
   "cell_type": "code",
   "execution_count": 45,
   "id": "866ac8b2",
   "metadata": {},
   "outputs": [],
   "source": [
    "#clf_log.score(X_test,y_test)"
   ]
  },
  {
   "cell_type": "code",
   "execution_count": 46,
   "id": "be0c6a3c",
   "metadata": {},
   "outputs": [
    {
     "data": {
      "text/plain": [
       "Customer_ID                      0\n",
       "Sex                              0\n",
       "Earnings                         0\n",
       "Region_Code                      0\n",
       "Marital Status                   0\n",
       "State_of_Origin                  0\n",
       "Customer_Worth                   0\n",
       "Customer_Reply                   0\n",
       "Plan                             0\n",
       "Certification                    0\n",
       "Effective To Date                0\n",
       "Status_of_Employment             0\n",
       "Premium_Auto_per_Month           0\n",
       "Total Claim Amount               0\n",
       "Vehicle Class                    0\n",
       "Vehicle Size                     0\n",
       "Months Since Last Claim          0\n",
       "Months Since Policy Inception    0\n",
       "Counts_of_Open_Complaints        0\n",
       "No_Of_POlicy                     0\n",
       "kind_of_policy                   0\n",
       "Active_Policy                    0\n",
       "Sales Channel                    0\n",
       "dtype: int64"
      ]
     },
     "execution_count": 46,
     "metadata": {},
     "output_type": "execute_result"
    }
   ],
   "source": [
    "test = pd.read_csv('test.csv')\n",
    "test.isnull().sum()"
   ]
  },
  {
   "cell_type": "code",
   "execution_count": 47,
   "id": "ecd002dc",
   "metadata": {},
   "outputs": [
    {
     "name": "stdout",
     "output_type": "stream",
     "text": [
      "[0 0 0 ... 0 0 0]\n"
     ]
    }
   ],
   "source": [
    "\n",
    "\n",
    "test=test.apply(LabelEncoder().fit_transform)\n",
    "\n",
    "ynew = rfc.predict(test)\n",
    "print(ynew)"
   ]
  },
  {
   "cell_type": "code",
   "execution_count": 2,
   "id": "657752a7",
   "metadata": {},
   "outputs": [
    {
     "ename": "NameError",
     "evalue": "name 'pd' is not defined",
     "output_type": "error",
     "traceback": [
      "\u001b[1;31m---------------------------------------------------------------------------\u001b[0m",
      "\u001b[1;31mNameError\u001b[0m                                 Traceback (most recent call last)",
      "\u001b[1;32m~\\AppData\\Local\\Temp/ipykernel_2472/2180714031.py\u001b[0m in \u001b[0;36m<module>\u001b[1;34m\u001b[0m\n\u001b[1;32m----> 1\u001b[1;33m df = pd.DataFrame(ynew,\n\u001b[0m\u001b[0;32m      2\u001b[0m              columns=['Response'])\n",
      "\u001b[1;31mNameError\u001b[0m: name 'pd' is not defined"
     ]
    }
   ],
   "source": [
    "df = pd.DataFrame(ynew,\n",
    "             columns=['Best_offer'])"
   ]
  },
  {
   "cell_type": "code",
   "execution_count": 49,
   "id": "4f82e0ea",
   "metadata": {},
   "outputs": [],
   "source": [
    "df.to_csv('sample.csv')"
   ]
  },
  {
   "cell_type": "code",
   "execution_count": null,
   "id": "781030ef",
   "metadata": {},
   "outputs": [],
   "source": []
  },
  {
   "cell_type": "code",
   "execution_count": null,
   "id": "c4688238",
   "metadata": {},
   "outputs": [],
   "source": []
  },
  {
   "cell_type": "code",
   "execution_count": null,
   "id": "a4fff244",
   "metadata": {},
   "outputs": [],
   "source": []
  },
  {
   "cell_type": "code",
   "execution_count": null,
   "id": "94360fe0",
   "metadata": {},
   "outputs": [],
   "source": []
  },
  {
   "cell_type": "code",
   "execution_count": null,
   "id": "3a91f824",
   "metadata": {},
   "outputs": [],
   "source": []
  },
  {
   "cell_type": "code",
   "execution_count": null,
   "id": "1712bde3",
   "metadata": {},
   "outputs": [],
   "source": []
  },
  {
   "cell_type": "code",
   "execution_count": null,
   "id": "cc847ebb",
   "metadata": {},
   "outputs": [],
   "source": []
  },
  {
   "cell_type": "code",
   "execution_count": null,
   "id": "ec8a32d1",
   "metadata": {},
   "outputs": [],
   "source": []
  },
  {
   "cell_type": "code",
   "execution_count": null,
   "id": "ebf0511d",
   "metadata": {},
   "outputs": [],
   "source": []
  }
 ],
 "metadata": {
  "kernelspec": {
   "display_name": "Python 3 (ipykernel)",
   "language": "python",
   "name": "python3"
  },
  "language_info": {
   "codemirror_mode": {
    "name": "ipython",
    "version": 3
   },
   "file_extension": ".py",
   "mimetype": "text/x-python",
   "name": "python",
   "nbconvert_exporter": "python",
   "pygments_lexer": "ipython3",
   "version": "3.8.11"
  }
 },
 "nbformat": 4,
 "nbformat_minor": 5
}
